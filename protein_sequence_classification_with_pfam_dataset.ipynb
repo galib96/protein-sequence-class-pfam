{
  "nbformat": 4,
  "nbformat_minor": 0,
  "metadata": {
    "colab": {
      "name": "protein sequence classification with pfam dataset.ipynb",
      "provenance": [],
      "collapsed_sections": [],
      "authorship_tag": "ABX9TyMnjvOADHMOmsf/rtZ2ab2U",
      "include_colab_link": true
    },
    "kernelspec": {
      "name": "python3",
      "display_name": "Python 3"
    },
    "language_info": {
      "name": "python"
    },
    "accelerator": "GPU"
  },
  "cells": [
    {
      "cell_type": "markdown",
      "metadata": {
        "id": "view-in-github",
        "colab_type": "text"
      },
      "source": [
        "<a href=\"https://colab.research.google.com/github/galib96/protein-sequence-class-pfam/blob/main/protein_sequence_classification_with_pfam_dataset.ipynb\" target=\"_parent\"><img src=\"https://colab.research.google.com/assets/colab-badge.svg\" alt=\"Open In Colab\"/></a>"
      ]
    },
    {
      "cell_type": "code",
      "metadata": {
        "colab": {
          "base_uri": "https://localhost:8080/"
        },
        "id": "vFFzw4Wqf-Qz",
        "outputId": "67d5016a-61f4-48c1-cc67-1680e4a54f4d"
      },
      "source": [
        "# connecting to google drive\n",
        "from google.colab import drive\n",
        "\n",
        "drive.mount('/content/gdrive/')"
      ],
      "execution_count": 1,
      "outputs": [
        {
          "output_type": "stream",
          "name": "stdout",
          "text": [
            "Mounted at /content/gdrive/\n"
          ]
        }
      ]
    },
    {
      "cell_type": "code",
      "metadata": {
        "id": "qJcSPB1xXubo"
      },
      "source": [
        "import os\n",
        "import pandas as pd\n",
        "import numpy as np\n",
        "import matplotlib.pyplot as plt\n",
        "import seaborn as sns\n",
        "\n",
        "from sklearn.preprocessing import LabelEncoder\n",
        "\n",
        "import keras\n",
        "import tensorflow as tf\n",
        "from tensorflow.keras.models import Model, Sequential\n",
        "from tensorflow.keras.regularizers import l2\n",
        "from tensorflow.keras.constraints import max_norm\n",
        "from tensorflow.keras.utils import to_categorical\n",
        "from tensorflow.keras.preprocessing.text import Tokenizer\n",
        "from tensorflow.keras.preprocessing.sequence import pad_sequences\n",
        "from tensorflow.keras.optimizers import Adam, RMSprop\n",
        "from tensorflow.keras.callbacks import EarlyStopping, LambdaCallback\n",
        "from tensorflow.keras.layers import Input, Dense, Dropout, BatchNormalization, ReLU, Flatten, Activation\n",
        "from tensorflow.keras.layers import Conv1D, Add, MaxPooling1D, BatchNormalization\n",
        "from keras.layers import Embedding, Bidirectional, LSTM, GlobalMaxPooling1D, CuDNNLSTM\n",
        "\n",
        "%matplotlib inline"
      ],
      "execution_count": 16,
      "outputs": []
    },
    {
      "cell_type": "code",
      "metadata": {
        "id": "S0mJYk5_7NGF"
      },
      "source": [
        "# data_path = \"/content/gdrive/MyDrive/Colab Notebooks/Protein Sequence Classification -  Pfam/DATA/pfam/random_split\"\n",
        "# def read_data(partition):\n",
        "#     data = []\n",
        "#     for fn in os.listdir(os.path.join(data_path, partition)):\n",
        "#         with open(os.path.join(data_path, partition, fn)) as f:\n",
        "#             data.append(pd.read_csv(f, index_col=None))\n",
        "#     return pd.concat(data)\n",
        "  \n",
        "# # reading all data_partitions\n",
        "# df_train = read_data('train')\n",
        "# df_val = read_data('dev')\n",
        "# df_test = read_data('test')\n",
        "\n",
        "# df_train.head()"
      ],
      "execution_count": 3,
      "outputs": []
    },
    {
      "cell_type": "code",
      "metadata": {
        "colab": {
          "base_uri": "https://localhost:8080/",
          "height": 360
        },
        "id": "XKR5lE8n_j_h",
        "outputId": "8619d6c4-fc7f-43d3-82ad-df6f82183108"
      },
      "source": [
        "df_train = pd.read_csv('/content/gdrive/MyDrive/Colab Notebooks/Protein Sequence Classification -  Pfam/DATA/train.csv')\n",
        "df_val = pd.read_csv('/content/gdrive/MyDrive/Colab Notebooks/Protein Sequence Classification -  Pfam/DATA/val.csv')\n",
        "df_test = pd.read_csv('/content/gdrive/MyDrive/Colab Notebooks/Protein Sequence Classification -  Pfam/DATA/test.csv')\n",
        "\n",
        "df_train.drop('Unnamed: 0', inplace=True, axis=1)\n",
        "df_val.drop('Unnamed: 0', inplace=True, axis=1)\n",
        "df_test.drop('Unnamed: 0', inplace=True, axis=1)\n",
        "\n",
        "print(\"Training set size\", df_train.shape)\n",
        "print(\"Val set size\", df_val.shape)\n",
        "print(\"Test Set size\", df_test.shape)\n",
        "\n",
        "df_train.head()"
      ],
      "execution_count": 4,
      "outputs": [
        {
          "output_type": "stream",
          "name": "stdout",
          "text": [
            "Training set size (1086741, 5)\n",
            "Val set size (126171, 5)\n",
            "Test Set size (126171, 5)\n"
          ]
        },
        {
          "output_type": "execute_result",
          "data": {
            "text/html": [
              "<div>\n",
              "<style scoped>\n",
              "    .dataframe tbody tr th:only-of-type {\n",
              "        vertical-align: middle;\n",
              "    }\n",
              "\n",
              "    .dataframe tbody tr th {\n",
              "        vertical-align: top;\n",
              "    }\n",
              "\n",
              "    .dataframe thead th {\n",
              "        text-align: right;\n",
              "    }\n",
              "</style>\n",
              "<table border=\"1\" class=\"dataframe\">\n",
              "  <thead>\n",
              "    <tr style=\"text-align: right;\">\n",
              "      <th></th>\n",
              "      <th>family_id</th>\n",
              "      <th>sequence_name</th>\n",
              "      <th>family_accession</th>\n",
              "      <th>aligned_sequence</th>\n",
              "      <th>sequence</th>\n",
              "    </tr>\n",
              "  </thead>\n",
              "  <tbody>\n",
              "    <tr>\n",
              "      <th>0</th>\n",
              "      <td>MORN_2</td>\n",
              "      <td>Q8EI47_SHEON/428-449</td>\n",
              "      <td>PF07661.13</td>\n",
              "      <td>LHGEFRNQTSSGQLLELI.NFNH</td>\n",
              "      <td>LHGEFRNQTSSGQLLELINFNH</td>\n",
              "    </tr>\n",
              "    <tr>\n",
              "      <th>1</th>\n",
              "      <td>Plexin_cytopl</td>\n",
              "      <td>H2TB23_TAKRU/1240-1793</td>\n",
              "      <td>PF08337.12</td>\n",
              "      <td>.MPFLDYKTYTDCNFFLPSKDGAND......AMITRKLQIPE.......</td>\n",
              "      <td>MPFLDYKTYTDCNFFLPSKDGANDAMITRKLQIPEARRAIVAQALN...</td>\n",
              "    </tr>\n",
              "    <tr>\n",
              "      <th>2</th>\n",
              "      <td>RT_RNaseH</td>\n",
              "      <td>H3H8E9_PHYRM/405-501</td>\n",
              "      <td>PF17917.1</td>\n",
              "      <td>DYSRRFHVFADAS.GH.QIGGVIVQ........................</td>\n",
              "      <td>DYSRRFHVFADASGHQIGGVIVQGRRILACFSRSMTDTQKKYSTME...</td>\n",
              "    </tr>\n",
              "    <tr>\n",
              "      <th>3</th>\n",
              "      <td>Transposase_20</td>\n",
              "      <td>Q981X5_RHILO/224-313</td>\n",
              "      <td>PF02371.16</td>\n",
              "      <td>VEAYQAMRGASFLVAVIFAAEI.GDV.RR.FDTPPQLMAFLGLVPG...</td>\n",
              "      <td>VEAYQAMRGASFLVAVIFAAEIGDVRRFDTPPQLMAFLGLVPGERS...</td>\n",
              "    </tr>\n",
              "    <tr>\n",
              "      <th>4</th>\n",
              "      <td>Mycobact_memb</td>\n",
              "      <td>MMPS4_MYCLE/16-154</td>\n",
              "      <td>PF05423.13</td>\n",
              "      <td>LSRIWIPLVILVVLVVGGFVVYRVHSYFASEKRESYADSNLGSSKP...</td>\n",
              "      <td>LSRIWIPLVILVVLVVGGFVVYRVHSYFASEKRESYADSNLGSSKP...</td>\n",
              "    </tr>\n",
              "  </tbody>\n",
              "</table>\n",
              "</div>"
            ],
            "text/plain": [
              "        family_id  ...                                           sequence\n",
              "0          MORN_2  ...                             LHGEFRNQTSSGQLLELINFNH\n",
              "1   Plexin_cytopl  ...  MPFLDYKTYTDCNFFLPSKDGANDAMITRKLQIPEARRAIVAQALN...\n",
              "2       RT_RNaseH  ...  DYSRRFHVFADASGHQIGGVIVQGRRILACFSRSMTDTQKKYSTME...\n",
              "3  Transposase_20  ...  VEAYQAMRGASFLVAVIFAAEIGDVRRFDTPPQLMAFLGLVPGERS...\n",
              "4   Mycobact_memb  ...  LSRIWIPLVILVVLVVGGFVVYRVHSYFASEKRESYADSNLGSSKP...\n",
              "\n",
              "[5 rows x 5 columns]"
            ]
          },
          "metadata": {},
          "execution_count": 4
        }
      ]
    },
    {
      "cell_type": "code",
      "metadata": {
        "colab": {
          "base_uri": "https://localhost:8080/",
          "height": 931
        },
        "id": "DQe2IJMFF7TZ",
        "outputId": "37a592ee-5908-4769-d2a6-1f13b1b14027"
      },
      "source": [
        "# finding length of the sequence\n",
        "\n",
        "df_train['sequence_length'] = df_train['sequence'].apply(lambda x: len(x))\n",
        "df_test['sequence_length'] = df_test['sequence'].apply(lambda x: len(x))\n",
        "df_val['sequence_length'] = df_val['sequence'].apply(lambda x: len(x))\n",
        "\n",
        "# plotting count by sequence lengths\n",
        "def plot_seq_len(df, df_name):\n",
        "    sns.distplot(df['sequence_length'].values)\n",
        "    plt.title(f'Sequence char count: {df_name}')\n",
        "    plt.grid(True)\n",
        "    plt.show()\n",
        "\n",
        "plot_seq_len(df_train, \"Train Set\")\n",
        "plot_seq_len(df_val, \"Val Set\")\n",
        "plot_seq_len(df_test, \"Test Set\")"
      ],
      "execution_count": 5,
      "outputs": [
        {
          "output_type": "stream",
          "name": "stderr",
          "text": [
            "/usr/local/lib/python3.7/dist-packages/seaborn/distributions.py:2619: FutureWarning: `distplot` is a deprecated function and will be removed in a future version. Please adapt your code to use either `displot` (a figure-level function with similar flexibility) or `histplot` (an axes-level function for histograms).\n",
            "  warnings.warn(msg, FutureWarning)\n"
          ]
        },
        {
          "output_type": "display_data",
          "data": {
            "image/png": "[encoded data removed]",
            "text/plain": [
              "<Figure size 432x288 with 1 Axes>"
            ]
          },
          "metadata": {
            "needs_background": "light"
          }
        },
        {
          "output_type": "stream",
          "name": "stderr",
          "text": [
            "/usr/local/lib/python3.7/dist-packages/seaborn/distributions.py:2619: FutureWarning: `distplot` is a deprecated function and will be removed in a future version. Please adapt your code to use either `displot` (a figure-level function with similar flexibility) or `histplot` (an axes-level function for histograms).\n",
            "  warnings.warn(msg, FutureWarning)\n"
          ]
        },
        {
          "output_type": "display_data",
          "data": {
            "image/png": "[encoded data removed]",
            "text/plain": [
              "<Figure size 432x288 with 1 Axes>"
            ]
          },
          "metadata": {
            "needs_background": "light"
          }
        },
        {
          "output_type": "stream",
          "name": "stderr",
          "text": [
            "/usr/local/lib/python3.7/dist-packages/seaborn/distributions.py:2619: FutureWarning: `distplot` is a deprecated function and will be removed in a future version. Please adapt your code to use either `displot` (a figure-level function with similar flexibility) or `histplot` (an axes-level function for histograms).\n",
            "  warnings.warn(msg, FutureWarning)\n"
          ]
        },
        {
          "output_type": "display_data",
          "data": {
            "image/png": "[encoded data removed]",
            "text/plain": [
              "<Figure size 432x288 with 1 Axes>"
            ]
          },
          "metadata": {
            "needs_background": "light"
          }
        }
      ]
    },
    {
      "cell_type": "code",
      "metadata": {
        "colab": {
          "base_uri": "https://localhost:8080/"
        },
        "id": "RnbzzX0hNYr2",
        "outputId": "f4602568-1ff9-4f11-9d3b-9b5c465410a2"
      },
      "source": [
        "# filtering dataset based on most \n",
        "\n",
        "classes = df_train['family_accession'].value_counts()[:250].index.tolist()\n",
        "\n",
        "train_df = df_train.loc[df_train['family_accession'].isin(classes)].reset_index(drop=True)\n",
        "val_df = df_val.loc[df_val['family_accession'].isin(classes)].reset_index(drop=True)\n",
        "test_df = df_test.loc[df_test['family_accession'].isin(classes)].reset_index(drop=True)\n",
        "\n",
        "print('Dataset size after taking 250 classes for each data split:')\n",
        "print('Train size :', len(train_df))\n",
        "print('Val size :', len(val_df))\n",
        "print('Test size :', len(test_df))"
      ],
      "execution_count": 6,
      "outputs": [
        {
          "output_type": "stream",
          "name": "stdout",
          "text": [
            "Dataset size after taking 250 classes for each data split:\n",
            "Train size : 184460\n",
            "Val size : 22917\n",
            "Test size : 22917\n"
          ]
        }
      ]
    },
    {
      "cell_type": "code",
      "metadata": {
        "colab": {
          "base_uri": "https://localhost:8080/"
        },
        "id": "JiHhBt6BDfMO",
        "outputId": "b6bd4be7-61c5-4cf2-d561-255dd8940c66"
      },
      "source": [
        "code_numeric = {' ':0, 'A':1, 'R':2, 'N':3, 'D':4, 'B':0, 'C':5, 'E':6, 'Q':7, 'Z':0, 'G':8, 'H':9, 'I':10, 'X':0, \n",
        "                 'L':11, 'K':12, 'M':13, 'F':14, 'P':15, 'S':16, 'T':17, 'W':18, 'Y':19, 'V':20, 'U':0, 'O':0}\n",
        "\n",
        "code_numeric"
      ],
      "execution_count": 7,
      "outputs": [
        {
          "output_type": "execute_result",
          "data": {
            "text/plain": [
              "{' ': 0,\n",
              " 'A': 1,\n",
              " 'B': 0,\n",
              " 'C': 5,\n",
              " 'D': 4,\n",
              " 'E': 6,\n",
              " 'F': 14,\n",
              " 'G': 8,\n",
              " 'H': 9,\n",
              " 'I': 10,\n",
              " 'K': 12,\n",
              " 'L': 11,\n",
              " 'M': 13,\n",
              " 'N': 3,\n",
              " 'O': 0,\n",
              " 'P': 15,\n",
              " 'Q': 7,\n",
              " 'R': 2,\n",
              " 'S': 16,\n",
              " 'T': 17,\n",
              " 'U': 0,\n",
              " 'V': 20,\n",
              " 'W': 18,\n",
              " 'X': 0,\n",
              " 'Y': 19,\n",
              " 'Z': 0}"
            ]
          },
          "metadata": {},
          "execution_count": 7
        }
      ]
    },
    {
      "cell_type": "code",
      "metadata": {
        "colab": {
          "base_uri": "https://localhost:8080/"
        },
        "id": "iSoB9ZK7LgDv",
        "outputId": "fddebf33-d12b-4006-f6cc-a20630a6fad3"
      },
      "source": [
        "def int_encoding(sequence):\n",
        "    encode = []\n",
        "    for code in sequence:\n",
        "        encode.append(code_numeric.get(code, 0))\n",
        "  \n",
        "    return np.array(encode)\n",
        "\n",
        "# test case\n",
        "int_encoding('QWERTYUIOPLKJHGFDSAZXCVBNM QWEEWQLKFA MDSNMZLPOTIGRT')"
      ],
      "execution_count": 8,
      "outputs": [
        {
          "output_type": "execute_result",
          "data": {
            "text/plain": [
              "array([ 7, 18,  6,  2, 17, 19,  0, 10,  0, 15, 11, 12,  0,  9,  8, 14,  4,\n",
              "       16,  1,  0,  0,  5, 20,  0,  3, 13,  0,  7, 18,  6,  6, 18,  7, 11,\n",
              "       12, 14,  1,  0, 13,  4, 16,  3, 13,  0, 11, 15,  0, 17, 10,  8,  2,\n",
              "       17])"
            ]
          },
          "metadata": {},
          "execution_count": 8
        }
      ]
    },
    {
      "cell_type": "code",
      "metadata": {
        "colab": {
          "base_uri": "https://localhost:8080/",
          "height": 649
        },
        "id": "kWUkKsAheEjA",
        "outputId": "af0f70e1-d0b1-4ff9-d0b8-f49f3a216fbc"
      },
      "source": [
        "train_df['encoded'] = train_df['sequence'].apply(int_encoding)\n",
        "val_df['encoded'] = val_df['sequence'].apply(int_encoding)\n",
        "test_df['encoded'] = test_df['sequence'].apply(int_encoding)\n",
        "\n",
        "train_df.head()"
      ],
      "execution_count": 9,
      "outputs": [
        {
          "output_type": "execute_result",
          "data": {
            "text/html": [
              "<div>\n",
              "<style scoped>\n",
              "    .dataframe tbody tr th:only-of-type {\n",
              "        vertical-align: middle;\n",
              "    }\n",
              "\n",
              "    .dataframe tbody tr th {\n",
              "        vertical-align: top;\n",
              "    }\n",
              "\n",
              "    .dataframe thead th {\n",
              "        text-align: right;\n",
              "    }\n",
              "</style>\n",
              "<table border=\"1\" class=\"dataframe\">\n",
              "  <thead>\n",
              "    <tr style=\"text-align: right;\">\n",
              "      <th></th>\n",
              "      <th>family_id</th>\n",
              "      <th>sequence_name</th>\n",
              "      <th>family_accession</th>\n",
              "      <th>aligned_sequence</th>\n",
              "      <th>sequence</th>\n",
              "      <th>sequence_length</th>\n",
              "      <th>encoded</th>\n",
              "    </tr>\n",
              "  </thead>\n",
              "  <tbody>\n",
              "    <tr>\n",
              "      <th>0</th>\n",
              "      <td>TatC</td>\n",
              "      <td>G2KP71_MICAA/17-235</td>\n",
              "      <td>PF00902.18</td>\n",
              "      <td>DHLVELRTRLL.W..CFVAILAGTVFC.........Y..V.F.......</td>\n",
              "      <td>DHLVELRTRLLWCFVAILAGTVFCYVFVQDIYGFLVRPLADAMGPG...</td>\n",
              "      <td>219</td>\n",
              "      <td>[4, 9, 11, 20, 6, 11, 2, 17, 2, 11, 11, 18, 5,...</td>\n",
              "    </tr>\n",
              "    <tr>\n",
              "      <th>1</th>\n",
              "      <td>GTP1_OBG</td>\n",
              "      <td>R6UFI3_9STAP/3-157</td>\n",
              "      <td>PF01018.22</td>\n",
              "      <td>VDSVKIHVKAGNGGNG.GS..YFLHEKYVAMGG..PS...GGNGGR...</td>\n",
              "      <td>VDSVKIHVKAGNGGNGGSYFLHEKYVAMGGPSGGNGGRGGSVIFVG...</td>\n",
              "      <td>155</td>\n",
              "      <td>[20, 4, 16, 20, 12, 10, 9, 20, 12, 1, 8, 3, 8,...</td>\n",
              "    </tr>\n",
              "    <tr>\n",
              "      <th>2</th>\n",
              "      <td>YgbB</td>\n",
              "      <td>K7RUM2_ACIA4/10-161</td>\n",
              "      <td>PF02542.16</td>\n",
              "      <td>.RTGIGTDVHQL............R....P...................</td>\n",
              "      <td>RTGIGTDVHQLRPGVPMHVAGLHFPDEAEGLAGHSDGDVAAHAICD...</td>\n",
              "      <td>152</td>\n",
              "      <td>[2, 17, 8, 10, 8, 17, 4, 20, 9, 7, 11, 2, 15, ...</td>\n",
              "    </tr>\n",
              "    <tr>\n",
              "      <th>3</th>\n",
              "      <td>NAD_Gly3P_dh_C</td>\n",
              "      <td>V5WDP6_9SPIO/186-338</td>\n",
              "      <td>PF07479.14</td>\n",
              "      <td>DVVGVQVSAAL..KNVIAIAFGILDAL.K..EYS......GSVGD....</td>\n",
              "      <td>DVVGVQVSAALKNVIAIAFGILDALKEYSGSVGDNTESLLLAGGLN...</td>\n",
              "      <td>153</td>\n",
              "      <td>[4, 20, 20, 8, 20, 7, 20, 16, 1, 1, 11, 12, 3,...</td>\n",
              "    </tr>\n",
              "    <tr>\n",
              "      <th>4</th>\n",
              "      <td>P5CR_dimer</td>\n",
              "      <td>P5CR_STAEQ/161-265</td>\n",
              "      <td>PF14748.6</td>\n",
              "      <td>EEHLHQVTAITGSGPA.FLYHVFEQYVKAGTE....L..GLERNQV...</td>\n",
              "      <td>EEHLHQVTAITGSGPAFLYHVFEQYVKAGTELGLERNQVEESIRNL...</td>\n",
              "      <td>105</td>\n",
              "      <td>[6, 6, 9, 11, 9, 7, 20, 17, 1, 10, 17, 8, 16, ...</td>\n",
              "    </tr>\n",
              "  </tbody>\n",
              "</table>\n",
              "</div>"
            ],
            "text/plain": [
              "        family_id  ...                                            encoded\n",
              "0            TatC  ...  [4, 9, 11, 20, 6, 11, 2, 17, 2, 11, 11, 18, 5,...\n",
              "1        GTP1_OBG  ...  [20, 4, 16, 20, 12, 10, 9, 20, 12, 1, 8, 3, 8,...\n",
              "2            YgbB  ...  [2, 17, 8, 10, 8, 17, 4, 20, 9, 7, 11, 2, 15, ...\n",
              "3  NAD_Gly3P_dh_C  ...  [4, 20, 20, 8, 20, 7, 20, 16, 1, 1, 11, 12, 3,...\n",
              "4      P5CR_dimer  ...  [6, 6, 9, 11, 9, 7, 20, 17, 1, 10, 17, 8, 16, ...\n",
              "\n",
              "[5 rows x 7 columns]"
            ]
          },
          "metadata": {},
          "execution_count": 9
        }
      ]
    },
    {
      "cell_type": "code",
      "metadata": {
        "colab": {
          "base_uri": "https://localhost:8080/"
        },
        "id": "ks3Mtb5XTAcQ",
        "outputId": "78e0daea-1624-4296-9698-4bef9a6bb5c7"
      },
      "source": [
        "train_encode = train_df['encoded'].to_list()\n",
        "val_encode = val_df['encoded'].to_list()\n",
        "test_encode = test_df['encoded'].to_list()\n",
        "\n",
        "max_length = 100\n",
        "train_pad = pad_sequences(train_encode, maxlen=max_length, padding='post', truncating='post')\n",
        "val_pad = pad_sequences(val_encode, maxlen=max_length, padding='post', truncating='post')\n",
        "test_pad = pad_sequences(test_encode, maxlen=max_length, padding='post', truncating='post')\n",
        "\n",
        "print(train_pad.shape, val_pad.shape, test_pad.shape)"
      ],
      "execution_count": 10,
      "outputs": [
        {
          "output_type": "stream",
          "name": "stdout",
          "text": [
            "(184460, 100) (22917, 100) (22917, 100)\n"
          ]
        }
      ]
    },
    {
      "cell_type": "code",
      "metadata": {
        "colab": {
          "base_uri": "https://localhost:8080/"
        },
        "id": "XzVu8dBXT-f_",
        "outputId": "bb184cea-53a6-4823-e326-1a22bee2f720"
      },
      "source": [
        "train_one = to_categorical(train_pad)\n",
        "val_one = to_categorical(val_pad)\n",
        "test_one = to_categorical(test_pad)\n",
        "\n",
        "print(train_one.shape, val_one.shape, test_one.shape) "
      ],
      "execution_count": 11,
      "outputs": [
        {
          "output_type": "stream",
          "name": "stdout",
          "text": [
            "(184460, 100, 21) (22917, 100, 21) (22917, 100, 21)\n"
          ]
        }
      ]
    },
    {
      "cell_type": "code",
      "metadata": {
        "colab": {
          "base_uri": "https://localhost:8080/"
        },
        "id": "IT0jt3EUMiNo",
        "outputId": "d771185b-1165-4932-a513-3694fa5cc8a0"
      },
      "source": [
        "le = LabelEncoder()\n",
        "\n",
        "y_train_le = le.fit_transform(train_df['family_accession'])\n",
        "y_val_le = le.transform(val_df['family_accession'])\n",
        "y_test_le = le.transform(test_df['family_accession'])\n",
        "\n",
        "y_train_le.shape, y_val_le.shape, y_test_le.shape"
      ],
      "execution_count": 12,
      "outputs": [
        {
          "output_type": "execute_result",
          "data": {
            "text/plain": [
              "((184460,), (22917,), (22917,))"
            ]
          },
          "metadata": {},
          "execution_count": 12
        }
      ]
    },
    {
      "cell_type": "code",
      "metadata": {
        "colab": {
          "base_uri": "https://localhost:8080/"
        },
        "id": "dbWaA5x7VWvG",
        "outputId": "a9f7191e-fa6e-4c80-8bcd-04380031569a"
      },
      "source": [
        "# One hot encoding of outputs\n",
        "y_train = to_categorical(y_train_le)\n",
        "y_val = to_categorical(y_val_le)\n",
        "y_test = to_categorical(y_test_le)\n",
        "\n",
        "y_train.shape, y_val.shape, y_test.shape"
      ],
      "execution_count": 13,
      "outputs": [
        {
          "output_type": "execute_result",
          "data": {
            "text/plain": [
              "((184460, 250), (22917, 250), (22917, 250))"
            ]
          },
          "metadata": {},
          "execution_count": 13
        }
      ]
    },
    {
      "cell_type": "markdown",
      "metadata": {
        "id": "NUTgscNIV4oS"
      },
      "source": [
        "Bi Directional LSTM"
      ]
    },
    {
      "cell_type": "code",
      "metadata": {
        "colab": {
          "base_uri": "https://localhost:8080/"
        },
        "id": "qulpQ225VsKS",
        "outputId": "ede53a68-a347-4ddc-8e75-3bc6cb1e367d"
      },
      "source": [
        "tf.keras.backend.clear_session()\n",
        "\n",
        "x_input = Input(shape=(100,))\n",
        "\n",
        "emb = Embedding(21, 128, input_length=100)(x_input)\n",
        "\n",
        "bi_rnn = Bidirectional(CuDNNLSTM(64, \n",
        "                                kernel_regularizer=l2(0.01), \n",
        "                                recurrent_regularizer=l2(0.01), \n",
        "                                bias_regularizer=l2(0.01)))(emb)\n",
        "x = Dropout(0.2)(bi_rnn)\n",
        "\n",
        "# softmax classifier\n",
        "x_output = Dense(250, activation='softmax')(x)\n",
        "\n",
        "model1 = keras.Sequential()\n",
        "model1.add(\n",
        "    keras.Input(shape=(100,))\n",
        "\n",
        ")\n",
        "\n",
        "model1 = Model(inputs=x_input, outputs=x_output)\n",
        "model1.compile(optimizer=Adam(learning_rate=0.01,decay=5e-4), \n",
        "               loss='categorical_crossentropy', \n",
        "               metrics=['accuracy'])\n",
        "\n",
        "model1.summary()"
      ],
      "execution_count": 19,
      "outputs": [
        {
          "output_type": "stream",
          "name": "stdout",
          "text": [
            "Model: \"model\"\n",
            "_________________________________________________________________\n",
            "Layer (type)                 Output Shape              Param #   \n",
            "=================================================================\n",
            "input_1 (InputLayer)         [(None, 100)]             0         \n",
            "_________________________________________________________________\n",
            "embedding (Embedding)        (None, 100, 128)          2688      \n",
            "_________________________________________________________________\n",
            "bidirectional (Bidirectional (None, 128)               99328     \n",
            "_________________________________________________________________\n",
            "dropout (Dropout)            (None, 128)               0         \n",
            "_________________________________________________________________\n",
            "dense (Dense)                (None, 250)               32250     \n",
            "=================================================================\n",
            "Total params: 134,266\n",
            "Trainable params: 134,266\n",
            "Non-trainable params: 0\n",
            "_________________________________________________________________\n"
          ]
        }
      ]
    },
    {
      "cell_type": "code",
      "metadata": {
        "colab": {
          "base_uri": "https://localhost:8080/"
        },
        "id": "8yjLvD638_4m",
        "outputId": "1f5e9a67-80b3-4b7b-e570-078ad3fe5564"
      },
      "source": [
        "# early stopping callback if model doesn't improvee\n",
        "early_cb = tf.keras.callbacks.EarlyStopping(\n",
        "    patience=5, verbose=1, monitor='val_loss', restore_best_weights=True, mode='min'\n",
        ")\n",
        "\n",
        "# reduce learning rate if model performance doesn't improve\n",
        "lr_call = tf.keras.callbacks.ReduceLROnPlateau(\n",
        "    monitor='val_loss', factor=0.1, patience=3, verbose=1, mode='min'\n",
        "    )\n",
        "\n",
        "# save the best model for later use\n",
        "checkpoint_path = 'cp.ckpt'\n",
        "checkpoint_cb = tf.keras.callbacks.ModelCheckpoint(filepath=checkpoint_path,\n",
        "                                                 save_weights_only=True,\n",
        "                                                 save_best_only=True,\n",
        "                                                 verbose=1)\n",
        "\n",
        "# model training\n",
        "history1 = model1.fit(\n",
        "        train_pad, y_train,\n",
        "        epochs=30, batch_size=512,\n",
        "        validation_data=(val_pad, y_val),\n",
        "        callbacks=[early_cb, lr_call, checkpoint_cb]\n",
        "    )"
      ],
      "execution_count": 20,
      "outputs": [
        {
          "output_type": "stream",
          "name": "stdout",
          "text": [
            "Epoch 1/30\n",
            "361/361 [==============================] - 43s 112ms/step - loss: 2.9187 - accuracy: 0.4885 - val_loss: 1.2032 - val_accuracy: 0.8260\n",
            "\n",
            "Epoch 00001: val_loss improved from inf to 1.20324, saving model to cp.ckpt\n",
            "Epoch 2/30\n",
            "361/361 [==============================] - 39s 109ms/step - loss: 1.1187 - accuracy: 0.8392 - val_loss: 0.8045 - val_accuracy: 0.9008\n",
            "\n",
            "Epoch 00002: val_loss improved from 1.20324 to 0.80454, saving model to cp.ckpt\n",
            "Epoch 3/30\n",
            "361/361 [==============================] - 39s 107ms/step - loss: 0.7826 - accuracy: 0.8905 - val_loss: 0.6158 - val_accuracy: 0.9340\n",
            "\n",
            "Epoch 00003: val_loss improved from 0.80454 to 0.61583, saving model to cp.ckpt\n",
            "Epoch 4/30\n",
            "361/361 [==============================] - 38s 106ms/step - loss: 0.6636 - accuracy: 0.9095 - val_loss: 0.5250 - val_accuracy: 0.9448\n",
            "\n",
            "Epoch 00004: val_loss improved from 0.61583 to 0.52502, saving model to cp.ckpt\n",
            "Epoch 5/30\n",
            "361/361 [==============================] - 38s 106ms/step - loss: 0.6310 - accuracy: 0.9151 - val_loss: 0.5370 - val_accuracy: 0.9413\n",
            "\n",
            "Epoch 00005: val_loss did not improve from 0.52502\n",
            "Epoch 6/30\n",
            "361/361 [==============================] - 38s 105ms/step - loss: 0.5566 - accuracy: 0.9265 - val_loss: 0.4709 - val_accuracy: 0.9448\n",
            "\n",
            "Epoch 00006: val_loss improved from 0.52502 to 0.47087, saving model to cp.ckpt\n",
            "Epoch 7/30\n",
            "361/361 [==============================] - 37s 103ms/step - loss: 0.5115 - accuracy: 0.9326 - val_loss: 0.4442 - val_accuracy: 0.9517\n",
            "\n",
            "Epoch 00007: val_loss improved from 0.47087 to 0.44417, saving model to cp.ckpt\n",
            "Epoch 8/30\n",
            "361/361 [==============================] - 38s 104ms/step - loss: 0.4730 - accuracy: 0.9374 - val_loss: 0.4184 - val_accuracy: 0.9522\n",
            "\n",
            "Epoch 00008: val_loss improved from 0.44417 to 0.41840, saving model to cp.ckpt\n",
            "Epoch 9/30\n",
            "361/361 [==============================] - 38s 104ms/step - loss: 0.4518 - accuracy: 0.9413 - val_loss: 0.3947 - val_accuracy: 0.9557\n",
            "\n",
            "Epoch 00009: val_loss improved from 0.41840 to 0.39468, saving model to cp.ckpt\n",
            "Epoch 10/30\n",
            "361/361 [==============================] - 38s 105ms/step - loss: 0.4348 - accuracy: 0.9423 - val_loss: 0.3736 - val_accuracy: 0.9601\n",
            "\n",
            "Epoch 00010: val_loss improved from 0.39468 to 0.37360, saving model to cp.ckpt\n",
            "Epoch 11/30\n",
            "361/361 [==============================] - 38s 105ms/step - loss: 0.4119 - accuracy: 0.9458 - val_loss: 0.3405 - val_accuracy: 0.9659\n",
            "\n",
            "Epoch 00011: val_loss improved from 0.37360 to 0.34048, saving model to cp.ckpt\n",
            "Epoch 12/30\n",
            "361/361 [==============================] - 38s 106ms/step - loss: 0.3947 - accuracy: 0.9479 - val_loss: 0.3333 - val_accuracy: 0.9654\n",
            "\n",
            "Epoch 00012: val_loss improved from 0.34048 to 0.33328, saving model to cp.ckpt\n",
            "Epoch 13/30\n",
            "361/361 [==============================] - 38s 105ms/step - loss: 0.3822 - accuracy: 0.9500 - val_loss: 0.3143 - val_accuracy: 0.9688\n",
            "\n",
            "Epoch 00013: val_loss improved from 0.33328 to 0.31426, saving model to cp.ckpt\n",
            "Epoch 14/30\n",
            "361/361 [==============================] - 38s 104ms/step - loss: 0.3701 - accuracy: 0.9519 - val_loss: 0.3075 - val_accuracy: 0.9678\n",
            "\n",
            "Epoch 00014: val_loss improved from 0.31426 to 0.30747, saving model to cp.ckpt\n",
            "Epoch 15/30\n",
            "361/361 [==============================] - 38s 105ms/step - loss: 0.3562 - accuracy: 0.9532 - val_loss: 0.3016 - val_accuracy: 0.9685\n",
            "\n",
            "Epoch 00015: val_loss improved from 0.30747 to 0.30157, saving model to cp.ckpt\n",
            "Epoch 16/30\n",
            "361/361 [==============================] - 38s 105ms/step - loss: 0.3508 - accuracy: 0.9540 - val_loss: 0.2966 - val_accuracy: 0.9691\n",
            "\n",
            "Epoch 00016: val_loss improved from 0.30157 to 0.29661, saving model to cp.ckpt\n",
            "Epoch 17/30\n",
            "361/361 [==============================] - 38s 105ms/step - loss: 0.3387 - accuracy: 0.9560 - val_loss: 0.2783 - val_accuracy: 0.9710\n",
            "\n",
            "Epoch 00017: val_loss improved from 0.29661 to 0.27827, saving model to cp.ckpt\n",
            "Epoch 18/30\n",
            "361/361 [==============================] - 38s 105ms/step - loss: 0.3305 - accuracy: 0.9562 - val_loss: 0.2767 - val_accuracy: 0.9731\n",
            "\n",
            "Epoch 00018: val_loss improved from 0.27827 to 0.27672, saving model to cp.ckpt\n",
            "Epoch 19/30\n",
            "361/361 [==============================] - 38s 106ms/step - loss: 0.3252 - accuracy: 0.9576 - val_loss: 0.2776 - val_accuracy: 0.9702\n",
            "\n",
            "Epoch 00019: val_loss did not improve from 0.27672\n",
            "Epoch 20/30\n",
            "361/361 [==============================] - 38s 105ms/step - loss: 0.3150 - accuracy: 0.9592 - val_loss: 0.2601 - val_accuracy: 0.9740\n",
            "\n",
            "Epoch 00020: val_loss improved from 0.27672 to 0.26009, saving model to cp.ckpt\n",
            "Epoch 21/30\n",
            "361/361 [==============================] - 38s 105ms/step - loss: 0.3078 - accuracy: 0.9599 - val_loss: 0.2657 - val_accuracy: 0.9724\n",
            "\n",
            "Epoch 00021: val_loss did not improve from 0.26009\n",
            "Epoch 22/30\n",
            "361/361 [==============================] - 38s 106ms/step - loss: 0.3017 - accuracy: 0.9609 - val_loss: 0.2540 - val_accuracy: 0.9750\n",
            "\n",
            "Epoch 00022: val_loss improved from 0.26009 to 0.25403, saving model to cp.ckpt\n",
            "Epoch 23/30\n",
            "361/361 [==============================] - 38s 106ms/step - loss: 0.3001 - accuracy: 0.9607 - val_loss: 0.2538 - val_accuracy: 0.9750\n",
            "\n",
            "Epoch 00023: val_loss improved from 0.25403 to 0.25377, saving model to cp.ckpt\n",
            "Epoch 24/30\n",
            "361/361 [==============================] - 38s 105ms/step - loss: 0.2945 - accuracy: 0.9615 - val_loss: 0.2391 - val_accuracy: 0.9773\n",
            "\n",
            "Epoch 00024: val_loss improved from 0.25377 to 0.23911, saving model to cp.ckpt\n",
            "Epoch 25/30\n",
            "361/361 [==============================] - 38s 106ms/step - loss: 0.2858 - accuracy: 0.9636 - val_loss: 0.2459 - val_accuracy: 0.9751\n",
            "\n",
            "Epoch 00025: val_loss did not improve from 0.23911\n",
            "Epoch 26/30\n",
            "361/361 [==============================] - 38s 106ms/step - loss: 0.2797 - accuracy: 0.9640 - val_loss: 0.2402 - val_accuracy: 0.9759\n",
            "\n",
            "Epoch 00026: val_loss did not improve from 0.23911\n",
            "Epoch 27/30\n",
            "361/361 [==============================] - 38s 106ms/step - loss: 0.2774 - accuracy: 0.9638 - val_loss: 0.2357 - val_accuracy: 0.9776\n",
            "\n",
            "Epoch 00027: val_loss improved from 0.23911 to 0.23565, saving model to cp.ckpt\n",
            "Epoch 28/30\n",
            "361/361 [==============================] - 39s 107ms/step - loss: 0.2728 - accuracy: 0.9650 - val_loss: 0.2206 - val_accuracy: 0.9792\n",
            "\n",
            "Epoch 00028: val_loss improved from 0.23565 to 0.22062, saving model to cp.ckpt\n",
            "Epoch 29/30\n",
            "361/361 [==============================] - 38s 106ms/step - loss: 0.2663 - accuracy: 0.9657 - val_loss: 0.2251 - val_accuracy: 0.9789\n",
            "\n",
            "Epoch 00029: val_loss did not improve from 0.22062\n",
            "Epoch 30/30\n",
            "361/361 [==============================] - 38s 107ms/step - loss: 0.2659 - accuracy: 0.9655 - val_loss: 0.2136 - val_accuracy: 0.9804\n",
            "\n",
            "Epoch 00030: val_loss improved from 0.22062 to 0.21359, saving model to cp.ckpt\n"
          ]
        }
      ]
    },
    {
      "cell_type": "code",
      "metadata": {
        "colab": {
          "base_uri": "https://localhost:8080/",
          "height": 513
        },
        "id": "zGvdCEuqFuKG",
        "outputId": "6fc789cc-bdae-40ab-d9bf-4397fcd220df"
      },
      "source": [
        "# result of the model training\n",
        "\n",
        "loss = history1.history['loss']\n",
        "val_loss = history1.history['val_loss']\n",
        "\n",
        "epochs = range(len(loss))\n",
        "\n",
        "plt.figure(figsize=(12,8))\n",
        "\n",
        "plt.plot(epochs, loss, 'r', label='Training Loss')\n",
        "plt.plot(epochs, val_loss, 'b', label='Validation Loss')\n",
        "plt.title('Training and validation loss')\n",
        "plt.xlabel('No. of Epochs')\n",
        "plt.ylabel('Loss (MSE)')\n",
        "plt.legend()\n",
        "\n",
        "plt.show()"
      ],
      "execution_count": 21,
      "outputs": [
        {
          "output_type": "display_data",
          "data": {
            "image/png": "[encoded data removed]",
            "text/plain": [
              "<Figure size 864x576 with 1 Axes>"
            ]
          },
          "metadata": {
            "needs_background": "light"
          }
        }
      ]
    },
    {
      "cell_type": "code",
      "metadata": {
        "id": "RO9caP6wL_sh"
      },
      "source": [
        "def display_model_score(model, train, val, test, batch_size):\n",
        "\n",
        "  train_score = model.evaluate(train[0], train[1], batch_size=batch_size, verbose=1)\n",
        "  print('Train loss: ', train_score[0])\n",
        "  print('Train accuracy: ', train_score[1])\n",
        "  print('-'*25)\n",
        "\n",
        "  val_score = model.evaluate(val[0], val[1], batch_size=batch_size, verbose=1)\n",
        "  print('Val loss: ', val_score[0])\n",
        "  print('Val accuracy: ', val_score[1])\n",
        "  print('-'*25)\n",
        "  \n",
        "  test_score = model.evaluate(test[0], test[1], batch_size=batch_size, verbose=1)\n",
        "  print('Test loss: ', test_score[0])\n",
        "  print('Test accuracy: ', test_score[1])"
      ],
      "execution_count": 22,
      "outputs": []
    },
    {
      "cell_type": "code",
      "metadata": {
        "colab": {
          "base_uri": "https://localhost:8080/"
        },
        "id": "ANzNWsq7MdN3",
        "outputId": "2a2b5ea2-dba1-40e4-841e-1c869f8bb01a"
      },
      "source": [
        "display_model_score(model1,\n",
        "    [train_pad, y_train],\n",
        "    [val_pad, y_val],\n",
        "    [test_pad, y_test],\n",
        "    256)"
      ],
      "execution_count": 23,
      "outputs": [
        {
          "output_type": "stream",
          "name": "stdout",
          "text": [
            "721/721 [==============================] - 25s 35ms/step - loss: 0.2008 - accuracy: 0.9842\n",
            "Train loss:  0.20084795355796814\n",
            "Train accuracy:  0.9842079877853394\n",
            "-------------------------\n",
            "90/90 [==============================] - 3s 35ms/step - loss: 0.2136 - accuracy: 0.9804\n",
            "Val loss:  0.21358764171600342\n",
            "Val accuracy:  0.9804075360298157\n",
            "-------------------------\n",
            "90/90 [==============================] - 3s 35ms/step - loss: 0.2156 - accuracy: 0.9797\n",
            "Test loss:  0.2155633568763733\n",
            "Test accuracy:  0.9797093868255615\n"
          ]
        }
      ]
    }
  ]
}