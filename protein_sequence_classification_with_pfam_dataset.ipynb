{
  "nbformat": 4,
  "nbformat_minor": 0,
  "metadata": {
    "colab": {
      "name": "protein sequence classification with pfam dataset.ipynb",
      "provenance": [],
      "collapsed_sections": [],
      "authorship_tag": "ABX9TyN0lkOoXNE60iImWBe/XlXt",
      "include_colab_link": true
    },
    "kernelspec": {
      "name": "python3",
      "display_name": "Python 3"
    },
    "language_info": {
      "name": "python"
    }
  },
  "cells": [
    {
      "cell_type": "markdown",
      "metadata": {
        "id": "view-in-github",
        "colab_type": "text"
      },
      "source": [
        "<a href=\"https://colab.research.google.com/github/galib96/protein-sequence-class-pfam/blob/main/protein_sequence_classification_with_pfam_dataset.ipynb\" target=\"_parent\"><img src=\"https://colab.research.google.com/assets/colab-badge.svg\" alt=\"Open In Colab\"/></a>"
      ]
    },
    {
      "cell_type": "code",
      "metadata": {
        "colab": {
          "base_uri": "https://localhost:8080/"
        },
        "id": "vFFzw4Wqf-Qz",
        "outputId": "d1fa706b-c723-4416-c406-fc9e027cb17d"
      },
      "source": [
        "# connecting to google drive\n",
        "from google.colab import drive\n",
        "\n",
        "drive.mount('/content/gdrive/')"
      ],
      "execution_count": 2,
      "outputs": [
        {
          "output_type": "stream",
          "name": "stdout",
          "text": [
            "Drive already mounted at /content/gdrive/; to attempt to forcibly remount, call drive.mount(\"/content/gdrive/\", force_remount=True).\n"
          ]
        }
      ]
    },
    {
      "cell_type": "code",
      "metadata": {
        "id": "qJcSPB1xXubo"
      },
      "source": [
        "import os\n",
        "import pandas as pd\n",
        "import numpy as np\n",
        "import matplotlib.pyplot as plt\n",
        "import seaborn as sns\n",
        "from keras.preprocessing.sequence import pad_sequences\n",
        "from tensorflow.keras.utils import to_categorical\n",
        "\n",
        "%matplotlib inline"
      ],
      "execution_count": 7,
      "outputs": []
    },
    {
      "cell_type": "code",
      "metadata": {
        "id": "S0mJYk5_7NGF"
      },
      "source": [
        "# data_path = \"/content/gdrive/MyDrive/Colab Notebooks/Protein Sequence Classification -  Pfam/DATA/pfam/random_split\"\n",
        "# def read_data(partition):\n",
        "#     data = []\n",
        "#     for fn in os.listdir(os.path.join(data_path, partition)):\n",
        "#         with open(os.path.join(data_path, partition, fn)) as f:\n",
        "#             data.append(pd.read_csv(f, index_col=None))\n",
        "#     return pd.concat(data)\n",
        "  \n",
        "# # reading all data_partitions\n",
        "# df_train = read_data('train')\n",
        "# df_val = read_data('dev')\n",
        "# df_test = read_data('test')\n",
        "\n",
        "# df_train.head()"
      ],
      "execution_count": 2,
      "outputs": []
    },
    {
      "cell_type": "code",
      "metadata": {
        "colab": {
          "base_uri": "https://localhost:8080/",
          "height": 377
        },
        "id": "XKR5lE8n_j_h",
        "outputId": "3c38f233-5f91-411b-f4fa-fcc991bca3c6"
      },
      "source": [
        "df_train = pd.read_csv('/content/gdrive/MyDrive/Colab Notebooks/Protein Sequence Classification -  Pfam/DATA/train.csv',\n",
        "                       nrows = 200000)\n",
        "df_val = pd.read_csv('/content/gdrive/MyDrive/Colab Notebooks/Protein Sequence Classification -  Pfam/DATA/val.csv',\n",
        "                     nrows = 10000)\n",
        "df_test = pd.read_csv('/content/gdrive/MyDrive/Colab Notebooks/Protein Sequence Classification -  Pfam/DATA/test.csv',\n",
        "                      nrows = 10000)\n",
        "\n",
        "print(\"Training set size\", df_train.shape)\n",
        "print(\"Val set size\", df_val.shape)\n",
        "print(\"Test Set size\", df_test.shape)\n",
        "\n",
        "df_train.head()"
      ],
      "execution_count": 16,
      "outputs": [
        {
          "output_type": "stream",
          "name": "stdout",
          "text": [
            "Training set size (200000, 6)\n",
            "Val set size (10000, 6)\n",
            "Test Set size (10000, 6)\n"
          ]
        },
        {
          "output_type": "execute_result",
          "data": {
            "text/html": [
              "<div>\n",
              "<style scoped>\n",
              "    .dataframe tbody tr th:only-of-type {\n",
              "        vertical-align: middle;\n",
              "    }\n",
              "\n",
              "    .dataframe tbody tr th {\n",
              "        vertical-align: top;\n",
              "    }\n",
              "\n",
              "    .dataframe thead th {\n",
              "        text-align: right;\n",
              "    }\n",
              "</style>\n",
              "<table border=\"1\" class=\"dataframe\">\n",
              "  <thead>\n",
              "    <tr style=\"text-align: right;\">\n",
              "      <th></th>\n",
              "      <th>Unnamed: 0</th>\n",
              "      <th>family_id</th>\n",
              "      <th>sequence_name</th>\n",
              "      <th>family_accession</th>\n",
              "      <th>aligned_sequence</th>\n",
              "      <th>sequence</th>\n",
              "    </tr>\n",
              "  </thead>\n",
              "  <tbody>\n",
              "    <tr>\n",
              "      <th>0</th>\n",
              "      <td>0</td>\n",
              "      <td>MORN_2</td>\n",
              "      <td>Q8EI47_SHEON/428-449</td>\n",
              "      <td>PF07661.13</td>\n",
              "      <td>LHGEFRNQTSSGQLLELI.NFNH</td>\n",
              "      <td>LHGEFRNQTSSGQLLELINFNH</td>\n",
              "    </tr>\n",
              "    <tr>\n",
              "      <th>1</th>\n",
              "      <td>1</td>\n",
              "      <td>Plexin_cytopl</td>\n",
              "      <td>H2TB23_TAKRU/1240-1793</td>\n",
              "      <td>PF08337.12</td>\n",
              "      <td>.MPFLDYKTYTDCNFFLPSKDGAND......AMITRKLQIPE.......</td>\n",
              "      <td>MPFLDYKTYTDCNFFLPSKDGANDAMITRKLQIPEARRAIVAQALN...</td>\n",
              "    </tr>\n",
              "    <tr>\n",
              "      <th>2</th>\n",
              "      <td>2</td>\n",
              "      <td>RT_RNaseH</td>\n",
              "      <td>H3H8E9_PHYRM/405-501</td>\n",
              "      <td>PF17917.1</td>\n",
              "      <td>DYSRRFHVFADAS.GH.QIGGVIVQ........................</td>\n",
              "      <td>DYSRRFHVFADASGHQIGGVIVQGRRILACFSRSMTDTQKKYSTME...</td>\n",
              "    </tr>\n",
              "    <tr>\n",
              "      <th>3</th>\n",
              "      <td>3</td>\n",
              "      <td>Transposase_20</td>\n",
              "      <td>Q981X5_RHILO/224-313</td>\n",
              "      <td>PF02371.16</td>\n",
              "      <td>VEAYQAMRGASFLVAVIFAAEI.GDV.RR.FDTPPQLMAFLGLVPG...</td>\n",
              "      <td>VEAYQAMRGASFLVAVIFAAEIGDVRRFDTPPQLMAFLGLVPGERS...</td>\n",
              "    </tr>\n",
              "    <tr>\n",
              "      <th>4</th>\n",
              "      <td>4</td>\n",
              "      <td>Mycobact_memb</td>\n",
              "      <td>MMPS4_MYCLE/16-154</td>\n",
              "      <td>PF05423.13</td>\n",
              "      <td>LSRIWIPLVILVVLVVGGFVVYRVHSYFASEKRESYADSNLGSSKP...</td>\n",
              "      <td>LSRIWIPLVILVVLVVGGFVVYRVHSYFASEKRESYADSNLGSSKP...</td>\n",
              "    </tr>\n",
              "  </tbody>\n",
              "</table>\n",
              "</div>"
            ],
            "text/plain": [
              "   Unnamed: 0  ...                                           sequence\n",
              "0           0  ...                             LHGEFRNQTSSGQLLELINFNH\n",
              "1           1  ...  MPFLDYKTYTDCNFFLPSKDGANDAMITRKLQIPEARRAIVAQALN...\n",
              "2           2  ...  DYSRRFHVFADASGHQIGGVIVQGRRILACFSRSMTDTQKKYSTME...\n",
              "3           3  ...  VEAYQAMRGASFLVAVIFAAEIGDVRRFDTPPQLMAFLGLVPGERS...\n",
              "4           4  ...  LSRIWIPLVILVVLVVGGFVVYRVHSYFASEKRESYADSNLGSSKP...\n",
              "\n",
              "[5 rows x 6 columns]"
            ]
          },
          "metadata": {},
          "execution_count": 16
        }
      ]
    },
    {
      "cell_type": "code",
      "metadata": {
        "colab": {
          "base_uri": "https://localhost:8080/",
          "height": 931
        },
        "id": "DQe2IJMFF7TZ",
        "outputId": "aa86c826-5437-4c1a-8864-7c276276e9d6"
      },
      "source": [
        "# finding length of the sequence\n",
        "\n",
        "df_train['sequence_length'] = df_train['sequence'].apply(lambda x: len(x))\n",
        "df_test['sequence_length'] = df_test['sequence'].apply(lambda x: len(x))\n",
        "df_val['sequence_length'] = df_val['sequence'].apply(lambda x: len(x))\n",
        "\n",
        "# plotting count by sequence lengths\n",
        "def plot_seq_len(df, df_name):\n",
        "    sns.distplot(df['sequence_length'].values)\n",
        "    plt.title(f'Sequence char count: {df_name}')\n",
        "    plt.grid(True)\n",
        "    plt.show()\n",
        "\n",
        "plot_seq_len(df_train, \"Train Set\")\n",
        "plot_seq_len(df_val, \"Val Set\")\n",
        "plot_seq_len(df_test, \"Test Set\")"
      ],
      "execution_count": 17,
      "outputs": [
        {
          "output_type": "stream",
          "name": "stderr",
          "text": [
            "/usr/local/lib/python3.7/dist-packages/seaborn/distributions.py:2619: FutureWarning: `distplot` is a deprecated function and will be removed in a future version. Please adapt your code to use either `displot` (a figure-level function with similar flexibility) or `histplot` (an axes-level function for histograms).\n",
            "  warnings.warn(msg, FutureWarning)\n"
          ]
        },
        {
          "output_type": "display_data",
          "data": {
            "image/png": "[encoded data removed]",
            "text/plain": [
              "<Figure size 432x288 with 1 Axes>"
            ]
          },
          "metadata": {
            "needs_background": "light"
          }
        },
        {
          "output_type": "stream",
          "name": "stderr",
          "text": [
            "/usr/local/lib/python3.7/dist-packages/seaborn/distributions.py:2619: FutureWarning: `distplot` is a deprecated function and will be removed in a future version. Please adapt your code to use either `displot` (a figure-level function with similar flexibility) or `histplot` (an axes-level function for histograms).\n",
            "  warnings.warn(msg, FutureWarning)\n"
          ]
        },
        {
          "output_type": "display_data",
          "data": {
            "image/png": "[encoded data removed]",
            "text/plain": [
              "<Figure size 432x288 with 1 Axes>"
            ]
          },
          "metadata": {
            "needs_background": "light"
          }
        },
        {
          "output_type": "stream",
          "name": "stderr",
          "text": [
            "/usr/local/lib/python3.7/dist-packages/seaborn/distributions.py:2619: FutureWarning: `distplot` is a deprecated function and will be removed in a future version. Please adapt your code to use either `displot` (a figure-level function with similar flexibility) or `histplot` (an axes-level function for histograms).\n",
            "  warnings.warn(msg, FutureWarning)\n"
          ]
        },
        {
          "output_type": "display_data",
          "data": {
            "image/png": "[encoded data removed]",
            "text/plain": [
              "<Figure size 432x288 with 1 Axes>"
            ]
          },
          "metadata": {
            "needs_background": "light"
          }
        }
      ]
    },
    {
      "cell_type": "code",
      "metadata": {
        "colab": {
          "base_uri": "https://localhost:8080/"
        },
        "id": "JiHhBt6BDfMO",
        "outputId": "d0547711-cba8-4e2b-8b58-d7b5dadc186c"
      },
      "source": [
        "code_numeric = {' ':0, 'A':1, 'R':2, 'N':3, 'D':4, 'B':5, 'C':6, 'E':7, 'Q':8, 'Z':9, 'G':10, 'H':11, 'I':12, 'X':13, \n",
        "                 'L':13, 'K':14, 'M':15, 'F':16, 'P':17, 'S':18, 'T':19, 'W':20, 'Y':21, 'V':22, 'U':23, 'O':24}\n",
        "\n",
        "code_numeric"
      ],
      "execution_count": 18,
      "outputs": [
        {
          "output_type": "execute_result",
          "data": {
            "text/plain": [
              "{' ': 0,\n",
              " 'A': 1,\n",
              " 'B': 5,\n",
              " 'C': 6,\n",
              " 'D': 4,\n",
              " 'E': 7,\n",
              " 'F': 16,\n",
              " 'G': 10,\n",
              " 'H': 11,\n",
              " 'I': 12,\n",
              " 'K': 14,\n",
              " 'L': 13,\n",
              " 'M': 15,\n",
              " 'N': 3,\n",
              " 'O': 24,\n",
              " 'P': 17,\n",
              " 'Q': 8,\n",
              " 'R': 2,\n",
              " 'S': 18,\n",
              " 'T': 19,\n",
              " 'U': 23,\n",
              " 'V': 22,\n",
              " 'W': 20,\n",
              " 'X': 13,\n",
              " 'Y': 21,\n",
              " 'Z': 9}"
            ]
          },
          "metadata": {},
          "execution_count": 18
        }
      ]
    },
    {
      "cell_type": "code",
      "metadata": {
        "colab": {
          "base_uri": "https://localhost:8080/"
        },
        "id": "iSoB9ZK7LgDv",
        "outputId": "7b4d4207-ebd2-4777-acaf-9f2deb8cffbe"
      },
      "source": [
        "def int_encoding(sequence):\n",
        "    encode = []\n",
        "    for code in sequence:\n",
        "        encode.append(code_numeric.get(code, 0))\n",
        "  \n",
        "    return np.array(encode)\n",
        "\n",
        "# test case\n",
        "int_encoding('QWERTYUIOPLKJHGFDSAZXCVBNM QWEEWQLKFA MDSNMZLPOTIGRT')"
      ],
      "execution_count": 19,
      "outputs": [
        {
          "output_type": "execute_result",
          "data": {
            "text/plain": [
              "array([ 8, 20,  7,  2, 19, 21, 23, 12, 24, 17, 13, 14,  0, 11, 10, 16,  4,\n",
              "       18,  1,  9, 13,  6, 22,  5,  3, 15,  0,  8, 20,  7,  7, 20,  8, 13,\n",
              "       14, 16,  1,  0, 15,  4, 18,  3, 15,  9, 13, 17, 24, 19, 12, 10,  2,\n",
              "       19])"
            ]
          },
          "metadata": {},
          "execution_count": 19
        }
      ]
    },
    {
      "cell_type": "code",
      "metadata": {
        "colab": {
          "base_uri": "https://localhost:8080/",
          "height": 666
        },
        "id": "kWUkKsAheEjA",
        "outputId": "14250dc3-dadf-4892-cfd0-507cc58855fb"
      },
      "source": [
        "df_train['encoded'] = df_train['sequence'].apply(int_encoding)\n",
        "df_val['encoded'] = df_val['sequence'].apply(int_encoding)\n",
        "df_test['encoded'] = df_test['sequence'].apply(int_encoding)\n",
        "\n",
        "df_train.head()"
      ],
      "execution_count": 20,
      "outputs": [
        {
          "output_type": "execute_result",
          "data": {
            "text/html": [
              "<div>\n",
              "<style scoped>\n",
              "    .dataframe tbody tr th:only-of-type {\n",
              "        vertical-align: middle;\n",
              "    }\n",
              "\n",
              "    .dataframe tbody tr th {\n",
              "        vertical-align: top;\n",
              "    }\n",
              "\n",
              "    .dataframe thead th {\n",
              "        text-align: right;\n",
              "    }\n",
              "</style>\n",
              "<table border=\"1\" class=\"dataframe\">\n",
              "  <thead>\n",
              "    <tr style=\"text-align: right;\">\n",
              "      <th></th>\n",
              "      <th>Unnamed: 0</th>\n",
              "      <th>family_id</th>\n",
              "      <th>sequence_name</th>\n",
              "      <th>family_accession</th>\n",
              "      <th>aligned_sequence</th>\n",
              "      <th>sequence</th>\n",
              "      <th>sequence_length</th>\n",
              "      <th>encoded</th>\n",
              "    </tr>\n",
              "  </thead>\n",
              "  <tbody>\n",
              "    <tr>\n",
              "      <th>0</th>\n",
              "      <td>0</td>\n",
              "      <td>MORN_2</td>\n",
              "      <td>Q8EI47_SHEON/428-449</td>\n",
              "      <td>PF07661.13</td>\n",
              "      <td>LHGEFRNQTSSGQLLELI.NFNH</td>\n",
              "      <td>LHGEFRNQTSSGQLLELINFNH</td>\n",
              "      <td>22</td>\n",
              "      <td>[13, 11, 10, 7, 16, 2, 3, 8, 19, 18, 18, 10, 8...</td>\n",
              "    </tr>\n",
              "    <tr>\n",
              "      <th>1</th>\n",
              "      <td>1</td>\n",
              "      <td>Plexin_cytopl</td>\n",
              "      <td>H2TB23_TAKRU/1240-1793</td>\n",
              "      <td>PF08337.12</td>\n",
              "      <td>.MPFLDYKTYTDCNFFLPSKDGAND......AMITRKLQIPE.......</td>\n",
              "      <td>MPFLDYKTYTDCNFFLPSKDGANDAMITRKLQIPEARRAIVAQALN...</td>\n",
              "      <td>554</td>\n",
              "      <td>[15, 17, 16, 13, 4, 21, 14, 19, 21, 19, 4, 6, ...</td>\n",
              "    </tr>\n",
              "    <tr>\n",
              "      <th>2</th>\n",
              "      <td>2</td>\n",
              "      <td>RT_RNaseH</td>\n",
              "      <td>H3H8E9_PHYRM/405-501</td>\n",
              "      <td>PF17917.1</td>\n",
              "      <td>DYSRRFHVFADAS.GH.QIGGVIVQ........................</td>\n",
              "      <td>DYSRRFHVFADASGHQIGGVIVQGRRILACFSRSMTDTQKKYSTME...</td>\n",
              "      <td>97</td>\n",
              "      <td>[4, 21, 18, 2, 2, 16, 11, 22, 16, 1, 4, 1, 18,...</td>\n",
              "    </tr>\n",
              "    <tr>\n",
              "      <th>3</th>\n",
              "      <td>3</td>\n",
              "      <td>Transposase_20</td>\n",
              "      <td>Q981X5_RHILO/224-313</td>\n",
              "      <td>PF02371.16</td>\n",
              "      <td>VEAYQAMRGASFLVAVIFAAEI.GDV.RR.FDTPPQLMAFLGLVPG...</td>\n",
              "      <td>VEAYQAMRGASFLVAVIFAAEIGDVRRFDTPPQLMAFLGLVPGERS...</td>\n",
              "      <td>90</td>\n",
              "      <td>[22, 7, 1, 21, 8, 1, 15, 2, 10, 1, 18, 16, 13,...</td>\n",
              "    </tr>\n",
              "    <tr>\n",
              "      <th>4</th>\n",
              "      <td>4</td>\n",
              "      <td>Mycobact_memb</td>\n",
              "      <td>MMPS4_MYCLE/16-154</td>\n",
              "      <td>PF05423.13</td>\n",
              "      <td>LSRIWIPLVILVVLVVGGFVVYRVHSYFASEKRESYADSNLGSSKP...</td>\n",
              "      <td>LSRIWIPLVILVVLVVGGFVVYRVHSYFASEKRESYADSNLGSSKP...</td>\n",
              "      <td>139</td>\n",
              "      <td>[13, 18, 2, 12, 20, 12, 17, 13, 22, 12, 13, 22...</td>\n",
              "    </tr>\n",
              "  </tbody>\n",
              "</table>\n",
              "</div>"
            ],
            "text/plain": [
              "   Unnamed: 0  ...                                            encoded\n",
              "0           0  ...  [13, 11, 10, 7, 16, 2, 3, 8, 19, 18, 18, 10, 8...\n",
              "1           1  ...  [15, 17, 16, 13, 4, 21, 14, 19, 21, 19, 4, 6, ...\n",
              "2           2  ...  [4, 21, 18, 2, 2, 16, 11, 22, 16, 1, 4, 1, 18,...\n",
              "3           3  ...  [22, 7, 1, 21, 8, 1, 15, 2, 10, 1, 18, 16, 13,...\n",
              "4           4  ...  [13, 18, 2, 12, 20, 12, 17, 13, 22, 12, 13, 22...\n",
              "\n",
              "[5 rows x 8 columns]"
            ]
          },
          "metadata": {},
          "execution_count": 20
        }
      ]
    }
  ]
}